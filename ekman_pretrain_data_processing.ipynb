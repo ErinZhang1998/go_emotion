{
 "cells": [
  {
   "cell_type": "code",
   "execution_count": 1,
   "metadata": {},
   "outputs": [
    {
     "data": {
      "text/plain": [
       "<module 'process_ekman_data' from '/home/xiaoyuz1/emotion-infused/process_ekman_data.py'>"
      ]
     },
     "execution_count": 1,
     "metadata": {},
     "output_type": "execute_result"
    }
   ],
   "source": [
    "import os\n",
    "import pandas as pd\n",
    "import process_ekman_data as ped\n",
    "from importlib import reload\n",
    "reload(ped)"
   ]
  },
  {
   "cell_type": "code",
   "execution_count": 2,
   "metadata": {},
   "outputs": [],
   "source": [
    "# GoEmotions\n",
    "\n",
    "go_f = \"/raid/xiaoyuz1/goemotions/goemotions/data/dev_ekman.csv\"\n",
    "par_dirs = \"/raid/xiaoyuz1/goemotions/goemotions/data/goemotions\"\n",
    "\n",
    "for div in [\"train\", \"dev\", \"test\"]:\n",
    "    go_f = \"/raid/xiaoyuz1/goemotions/goemotions/data/{}_ekman.csv\".format(div)\n",
    "    par_dir = os.path.join(\"/raid/xiaoyuz1/goemotions/goemotions/data/goemotions\", div)\n",
    "    for e in [\"anger\", \"disgust\", \"fear\", \"joy\", \"sadness\", \"surprise\", \"neutral\"]:\n",
    "        df = ped.read_goemotions(go_f, e)\n",
    "        save_dir = os.path.join(par_dir, \"{}.csv\".format(e))\n",
    "        df.to_csv(save_dir, index=False)"
   ]
  },
  {
   "cell_type": "code",
   "execution_count": null,
   "metadata": {},
   "outputs": [],
   "source": [
    "'''\n",
    "------------------------------------NEW DATASET--------------------------------------------------------\n",
    "'''\n",
    "# AffectiveText\n",
    "# id anger disgust fear joy sadness surprise\n",
    "# label: 0 1 2 3 4 5\n",
    "\n",
    "tweet_f1 = \"/raid/xiaoyuz1/goemotions/AffectiveText.Semeval.2007/AffectiveText.test/affectivetext_test.xml\"\n",
    "emotion_f1 = \\\n",
    "    \"/raid/xiaoyuz1/goemotions/AffectiveText.Semeval.2007/AffectiveText.test/affectivetext_test.emotions.gold\"\n",
    "tweet_f2 = \\\n",
    "    \"/raid/xiaoyuz1/goemotions/AffectiveText.Semeval.2007/AffectiveText.trial/affectivetext_trial.xml\"\n",
    "emotion_f2 = \\\n",
    "    \"/raid/xiaoyuz1/goemotions/AffectiveText.Semeval.2007/AffectiveText.trial/affectivetext_trial.emotions.gold\"\n",
    "\n",
    "par_dir = \"/raid/xiaoyuz1/goemotions/goemotions/data/affectivetext\"\n",
    "\n",
    "for e in [\"anger\", \"disgust\", \"fear\", \"joy\", \"sadness\", \"surprise\", \"neutral\"]:\n",
    "    save_dir = os.path.join(par_dir, \"{}.csv\".format(e))\n",
    "    df1 = ped.read1([tweet_f1, tweet_f2], [emotion_f1, emotion_f2], e)\n",
    "    df1.to_csv(save_dir, index=False)"
   ]
  },
  {
   "cell_type": "code",
   "execution_count": 3,
   "metadata": {},
   "outputs": [],
   "source": [
    "'''\n",
    "------------------------------------NEW DATASET--------------------------------------------------------\n",
    "'''\n",
    "# /raid/xiaoyuz1/goemotions/WASSA-2017\n",
    "# http://saifmohammad.com/WebPages/EmotionIntensity-SharedTask.html\n",
    "\n",
    "par_dir = \"/raid/xiaoyuz1/goemotions/WASSA-2017\"\n",
    "paths = [os.path.join(par_dir, p) for p in os.listdir(par_dir)]\n",
    "\n",
    "par_dir_new = \"/raid/xiaoyuz1/goemotions/goemotions/data/wassa2017\"\n",
    "\n",
    "for e in [\"sadness\", \"fear\", \"anger\", \"joy\", \"neutral\"]:\n",
    "    df = ped.read2(paths, e)\n",
    "    path_dir = os.path.join(par_dir_new, \"{}.csv\".format(e))\n",
    "    df.to_csv(path_dir, index=False)"
   ]
  },
  {
   "cell_type": "code",
   "execution_count": null,
   "metadata": {},
   "outputs": [],
   "source": [
    "'''\n",
    "------------------------------------NEW DATASET--------------------------------------------------------\n",
    "'''\n"
   ]
  },
  {
   "cell_type": "code",
   "execution_count": null,
   "metadata": {},
   "outputs": [],
   "source": []
  },
  {
   "cell_type": "code",
   "execution_count": null,
   "metadata": {},
   "outputs": [],
   "source": []
  },
  {
   "cell_type": "code",
   "execution_count": 38,
   "metadata": {},
   "outputs": [],
   "source": []
  },
  {
   "cell_type": "code",
   "execution_count": 7,
   "metadata": {},
   "outputs": [],
   "source": [
    "paths = [\n",
    "    '/raid/xiaoyuz1/goemotions/goemotions/data/goemotions/train/joy.csv',\n",
    "    '/raid/xiaoyuz1/goemotions/goemotions/data/affectivetext/joy.csv'\n",
    "]\n",
    "\n",
    "df = ped.merge(paths)\n",
    "df.to_csv(\"/raid/xiaoyuz1/goemotions/goemotions/data/ekman/joy/train.csv\", index=False)"
   ]
  },
  {
   "cell_type": "code",
   "execution_count": 8,
   "metadata": {},
   "outputs": [],
   "source": [
    "paths = [\n",
    "    '/raid/xiaoyuz1/goemotions/goemotions/data/goemotions/dev/joy.csv',\n",
    "]\n",
    "\n",
    "df = ped.merge(paths)\n",
    "df.to_csv(\"/raid/xiaoyuz1/goemotions/goemotions/data/ekman/joy/dev.csv\", index=False)"
   ]
  },
  {
   "cell_type": "code",
   "execution_count": 9,
   "metadata": {},
   "outputs": [],
   "source": [
    "paths = [\n",
    "    '/raid/xiaoyuz1/goemotions/goemotions/data/goemotions/test/joy.csv',\n",
    "]\n",
    "\n",
    "df = ped.merge(paths)\n",
    "df.to_csv(\"/raid/xiaoyuz1/goemotions/goemotions/data/ekman/joy/test.csv\", index=False)"
   ]
  },
  {
   "cell_type": "code",
   "execution_count": null,
   "metadata": {},
   "outputs": [],
   "source": []
  },
  {
   "cell_type": "code",
   "execution_count": null,
   "metadata": {},
   "outputs": [],
   "source": []
  },
  {
   "cell_type": "code",
   "execution_count": null,
   "metadata": {},
   "outputs": [],
   "source": []
  },
  {
   "cell_type": "code",
   "execution_count": null,
   "metadata": {},
   "outputs": [],
   "source": []
  },
  {
   "cell_type": "code",
   "execution_count": null,
   "metadata": {},
   "outputs": [],
   "source": []
  },
  {
   "cell_type": "code",
   "execution_count": null,
   "metadata": {},
   "outputs": [],
   "source": []
  },
  {
   "cell_type": "code",
   "execution_count": null,
   "metadata": {},
   "outputs": [],
   "source": []
  },
  {
   "cell_type": "code",
   "execution_count": null,
   "metadata": {},
   "outputs": [],
   "source": []
  }
 ],
 "metadata": {
  "kernelspec": {
   "display_name": "myenv",
   "language": "python",
   "name": "myenv"
  },
  "language_info": {
   "codemirror_mode": {
    "name": "ipython",
    "version": 3
   },
   "file_extension": ".py",
   "mimetype": "text/x-python",
   "name": "python",
   "nbconvert_exporter": "python",
   "pygments_lexer": "ipython3",
   "version": "3.8.12"
  }
 },
 "nbformat": 4,
 "nbformat_minor": 4
}
