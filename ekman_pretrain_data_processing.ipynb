{
 "cells": [
  {
   "cell_type": "code",
   "execution_count": 1,
   "metadata": {},
   "outputs": [],
   "source": [
    "import pandas as pd"
   ]
  },
  {
   "cell_type": "code",
   "execution_count": 2,
   "metadata": {},
   "outputs": [],
   "source": [
    "# id anger disgust fear joy sadness surprise\n",
    "# label: 0 1 2 3 4 5"
   ]
  },
  {
   "cell_type": "code",
   "execution_count": 3,
   "metadata": {},
   "outputs": [],
   "source": [
    "# AffectiveText\n",
    "thresh = 20\n",
    "def read1(tweet_fs, emotion_fs):\n",
    "    texts = []\n",
    "    labels = []\n",
    "    \n",
    "    for tweet_f, emotion_f in zip(tweet_fs, emotion_fs):\n",
    "    \n",
    "        fh1 = open(tweet_f, \"r\")\n",
    "        fh2 = open(emotion_f, \"r\")\n",
    "        L1 = fh1.readlines()\n",
    "        L2 = fh2.readlines()\n",
    "\n",
    "        lineNo = 0\n",
    "    \n",
    "    \n",
    "        for line in L1:\n",
    "            if not line.startswith(\"<instance\"):\n",
    "                continue \n",
    "            text = line.split(\">\")[1].split(\"<\")[0]\n",
    "            label_raw = L2[lineNo].strip().split(\" \")[1:]\n",
    "\n",
    "            texts.append(text)\n",
    "            label_text = []\n",
    "            for li, l in enumerate(label_raw):\n",
    "                if int(l) >= thresh:\n",
    "                    label_text.append(str(li))\n",
    "            if len(label_text) > 0:\n",
    "                labels.append(\",\".join(label_text))\n",
    "            else:\n",
    "                labels.append(\"6\")\n",
    "            lineNo += 1\n",
    "    \n",
    "    df = pd.DataFrame({'text': texts,\n",
    "                   'label': labels})\n",
    "    \n",
    "    return df\n",
    "\n",
    "tweet_f1 = \"/raid/xiaoyuz1/goemotions/metaData/AffectiveText.test/affectivetext_test.xml\"\n",
    "emotion_f1 = \"/raid/xiaoyuz1/goemotions/metaData/AffectiveText.test/affectivetext_test.emotions.gold\"\n",
    "tweet_f2 = \"/raid/xiaoyuz1/goemotions/metaData/AffectiveText.trial/affectivetext_trial.xml\"\n",
    "emotion_f2 = \"/raid/xiaoyuz1/goemotions/metaData/AffectiveText.trial/affectivetext_trial.emotions.gold\"\n",
    "\n",
    "df1 = read1([tweet_f1, tweet_f2], [emotion_f1, emotion_f2])\n",
    "# df1.to_csv()"
   ]
  },
  {
   "cell_type": "code",
   "execution_count": 4,
   "metadata": {},
   "outputs": [
    {
     "data": {
      "text/html": [
       "<div>\n",
       "<style scoped>\n",
       "    .dataframe tbody tr th:only-of-type {\n",
       "        vertical-align: middle;\n",
       "    }\n",
       "\n",
       "    .dataframe tbody tr th {\n",
       "        vertical-align: top;\n",
       "    }\n",
       "\n",
       "    .dataframe thead th {\n",
       "        text-align: right;\n",
       "    }\n",
       "</style>\n",
       "<table border=\"1\" class=\"dataframe\">\n",
       "  <thead>\n",
       "    <tr style=\"text-align: right;\">\n",
       "      <th></th>\n",
       "      <th>text</th>\n",
       "      <th>label</th>\n",
       "    </tr>\n",
       "  </thead>\n",
       "  <tbody>\n",
       "    <tr>\n",
       "      <th>0</th>\n",
       "      <td>Test to predict breast cancer relapse is approved</td>\n",
       "      <td>3</td>\n",
       "    </tr>\n",
       "    <tr>\n",
       "      <th>1</th>\n",
       "      <td>Two Hussein allies are hanged, Iraqi official ...</td>\n",
       "      <td>0,1,4</td>\n",
       "    </tr>\n",
       "    <tr>\n",
       "      <th>2</th>\n",
       "      <td>Sights and sounds from CES</td>\n",
       "      <td>6</td>\n",
       "    </tr>\n",
       "    <tr>\n",
       "      <th>3</th>\n",
       "      <td>Schuey sees Ferrari unveil new car</td>\n",
       "      <td>3,5</td>\n",
       "    </tr>\n",
       "    <tr>\n",
       "      <th>4</th>\n",
       "      <td>Closings and cancellations top advice on flu o...</td>\n",
       "      <td>2</td>\n",
       "    </tr>\n",
       "    <tr>\n",
       "      <th>...</th>\n",
       "      <td>...</td>\n",
       "      <td>...</td>\n",
       "    </tr>\n",
       "    <tr>\n",
       "      <th>1245</th>\n",
       "      <td>Amish killings school demolished</td>\n",
       "      <td>0,1,2,4,5</td>\n",
       "    </tr>\n",
       "    <tr>\n",
       "      <th>1246</th>\n",
       "      <td>Pamuk wins Nobel Literature prize</td>\n",
       "      <td>3</td>\n",
       "    </tr>\n",
       "    <tr>\n",
       "      <th>1247</th>\n",
       "      <td>Madonna adoption bid approved</td>\n",
       "      <td>3,5</td>\n",
       "    </tr>\n",
       "    <tr>\n",
       "      <th>1248</th>\n",
       "      <td>Man admits UK-US terror bomb plot</td>\n",
       "      <td>0,1,2,4</td>\n",
       "    </tr>\n",
       "    <tr>\n",
       "      <th>1249</th>\n",
       "      <td>Who are you calling fat?</td>\n",
       "      <td>6</td>\n",
       "    </tr>\n",
       "  </tbody>\n",
       "</table>\n",
       "<p>1250 rows × 2 columns</p>\n",
       "</div>"
      ],
      "text/plain": [
       "                                                   text      label\n",
       "0     Test to predict breast cancer relapse is approved          3\n",
       "1     Two Hussein allies are hanged, Iraqi official ...      0,1,4\n",
       "2                            Sights and sounds from CES          6\n",
       "3                    Schuey sees Ferrari unveil new car        3,5\n",
       "4     Closings and cancellations top advice on flu o...          2\n",
       "...                                                 ...        ...\n",
       "1245                  Amish killings school demolished   0,1,2,4,5\n",
       "1246                  Pamuk wins Nobel Literature prize          3\n",
       "1247                     Madonna adoption bid approved         3,5\n",
       "1248                  Man admits UK-US terror bomb plot    0,1,2,4\n",
       "1249                           Who are you calling fat?          6\n",
       "\n",
       "[1250 rows x 2 columns]"
      ]
     },
     "execution_count": 4,
     "metadata": {},
     "output_type": "execute_result"
    }
   ],
   "source": [
    "df1"
   ]
  },
  {
   "cell_type": "code",
   "execution_count": null,
   "metadata": {},
   "outputs": [],
   "source": []
  },
  {
   "cell_type": "code",
   "execution_count": null,
   "metadata": {},
   "outputs": [],
   "source": []
  },
  {
   "cell_type": "code",
   "execution_count": null,
   "metadata": {},
   "outputs": [],
   "source": []
  },
  {
   "cell_type": "code",
   "execution_count": null,
   "metadata": {},
   "outputs": [],
   "source": []
  },
  {
   "cell_type": "code",
   "execution_count": null,
   "metadata": {},
   "outputs": [],
   "source": []
  },
  {
   "cell_type": "code",
   "execution_count": null,
   "metadata": {},
   "outputs": [],
   "source": []
  },
  {
   "cell_type": "code",
   "execution_count": null,
   "metadata": {},
   "outputs": [],
   "source": []
  },
  {
   "cell_type": "code",
   "execution_count": null,
   "metadata": {},
   "outputs": [],
   "source": []
  },
  {
   "cell_type": "code",
   "execution_count": null,
   "metadata": {},
   "outputs": [],
   "source": []
  },
  {
   "cell_type": "code",
   "execution_count": null,
   "metadata": {},
   "outputs": [],
   "source": []
  },
  {
   "cell_type": "code",
   "execution_count": null,
   "metadata": {},
   "outputs": [],
   "source": []
  }
 ],
 "metadata": {
  "kernelspec": {
   "display_name": "myenv",
   "language": "python",
   "name": "myenv"
  },
  "language_info": {
   "codemirror_mode": {
    "name": "ipython",
    "version": 3
   },
   "file_extension": ".py",
   "mimetype": "text/x-python",
   "name": "python",
   "nbconvert_exporter": "python",
   "pygments_lexer": "ipython3",
   "version": "3.8.12"
  }
 },
 "nbformat": 4,
 "nbformat_minor": 4
}
