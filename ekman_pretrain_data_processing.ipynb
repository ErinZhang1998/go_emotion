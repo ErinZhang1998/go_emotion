{
 "cells": [
  {
   "cell_type": "code",
   "execution_count": 1,
   "metadata": {},
   "outputs": [
    {
     "data": {
      "text/plain": [
       "<module 'process_ekman_data' from '/home/xiaoyuz1/emotion-infused/process_ekman_data.py'>"
      ]
     },
     "execution_count": 1,
     "metadata": {},
     "output_type": "execute_result"
    }
   ],
   "source": [
    "import os\n",
    "import pandas as pd\n",
    "import process_ekman_data as ped\n",
    "from importlib import reload\n",
    "reload(ped)"
   ]
  },
  {
   "cell_type": "code",
   "execution_count": null,
   "metadata": {},
   "outputs": [],
   "source": [
    "# GoEmotions\n",
    "\n",
    "go_f = \"/raid/xiaoyuz1/goemotions/goemotions/data/dev_ekman.csv\"\n",
    "par_dirs = \"/raid/xiaoyuz1/goemotions/goemotions/data/goemotions\"\n",
    "\n",
    "for div in [\"train\", \"dev\", \"test\"]:\n",
    "    go_f = \"/raid/xiaoyuz1/goemotions/goemotions/data/{}_ekman.csv\".format(div)\n",
    "    par_dir = os.path.join(\"/raid/xiaoyuz1/goemotions/goemotions/data/goemotions\", div)\n",
    "    for e in [\"anger\", \"disgust\", \"fear\", \"joy\", \"sadness\", \"surprise\", \"neutral\"]:\n",
    "        df = ped.read_goemotions(go_f, e)\n",
    "        save_dir = os.path.join(par_dir, \"{}.csv\".format(e))\n",
    "        df.to_csv(save_dir, index=False)"
   ]
  },
  {
   "cell_type": "code",
   "execution_count": null,
   "metadata": {},
   "outputs": [],
   "source": [
    "'''\n",
    "------------------------------------NEW DATASET--------------------------------------------------------\n",
    "'''\n",
    "# AffectiveText\n",
    "# id anger disgust fear joy sadness surprise\n",
    "# label: 0 1 2 3 4 5\n",
    "\n",
    "tweet_f1 = \"/raid/xiaoyuz1/goemotions/AffectiveText.Semeval.2007/AffectiveText.test/affectivetext_test.xml\"\n",
    "emotion_f1 = \\\n",
    "    \"/raid/xiaoyuz1/goemotions/AffectiveText.Semeval.2007/AffectiveText.test/affectivetext_test.emotions.gold\"\n",
    "tweet_f2 = \\\n",
    "    \"/raid/xiaoyuz1/goemotions/AffectiveText.Semeval.2007/AffectiveText.trial/affectivetext_trial.xml\"\n",
    "emotion_f2 = \\\n",
    "    \"/raid/xiaoyuz1/goemotions/AffectiveText.Semeval.2007/AffectiveText.trial/affectivetext_trial.emotions.gold\"\n",
    "\n",
    "par_dir = \"/raid/xiaoyuz1/goemotions/goemotions/data/affectivetext\"\n",
    "\n",
    "for e in [\"anger\", \"disgust\", \"fear\", \"joy\", \"sadness\", \"surprise\", \"neutral\"]:\n",
    "    save_dir = os.path.join(par_dir, \"{}.csv\".format(e))\n",
    "    df1 = ped.read1([tweet_f1, tweet_f2], [emotion_f1, emotion_f2], e)\n",
    "    df1.to_csv(save_dir, index=False)"
   ]
  },
  {
   "cell_type": "code",
   "execution_count": null,
   "metadata": {},
   "outputs": [],
   "source": [
    "'''\n",
    "------------------------------------NEW DATASET--------------------------------------------------------\n",
    "'''\n",
    "# /raid/xiaoyuz1/goemotions/WASSA-2017\n",
    "# http://saifmohammad.com/WebPages/EmotionIntensity-SharedTask.html\n",
    "\n",
    "par_dir = \"/raid/xiaoyuz1/goemotions/WASSA-2017\"\n",
    "paths = [os.path.join(par_dir, p) for p in os.listdir(par_dir)]\n",
    "\n",
    "par_dir_new = \"/raid/xiaoyuz1/goemotions/goemotions/data/wassa2017\"\n",
    "\n",
    "for e in [\"sadness\", \"fear\", \"anger\", \"joy\", \"neutral\"]:\n",
    "    df = ped.read2(paths, e)\n",
    "    path_dir = os.path.join(par_dir_new, \"{}.csv\".format(e))\n",
    "    df.to_csv(path_dir, index=False)"
   ]
  },
  {
   "cell_type": "code",
   "execution_count": null,
   "metadata": {},
   "outputs": [],
   "source": []
  },
  {
   "cell_type": "code",
   "execution_count": null,
   "metadata": {},
   "outputs": [],
   "source": []
  },
  {
   "cell_type": "code",
   "execution_count": null,
   "metadata": {
    "scrolled": true
   },
   "outputs": [],
   "source": [
    "'''\n",
    "------------------------------------NEW DATASET--------------------------------------------------------\n",
    "'''\n",
    "data_dir = \"/raid/xiaoyuz1/goemotions/SemEval2018-Task1-all-data/English/E-c\"\n",
    "par_dir_new = \"/raid/xiaoyuz1/goemotions/goemotions/data/semeval2018_c\"\n",
    "\n",
    "for e in [\"anger\", \"fear\", \"joy\", \"sadness\", \"disgust\", \"surprise\"]:\n",
    "    paths = []\n",
    "    for a in os.listdir(data_dir):\n",
    "        if not a.split(\".\")[1] == \"txt\":\n",
    "            continue\n",
    "            \n",
    "        path = os.path.join(data_dir, a)\n",
    "        paths.append(path)\n",
    "        \n",
    "#     print(e, paths)\n",
    "    new_path = os.path.join(par_dir_new, \"{}.csv\".format(e))\n",
    "    df = ped.read3(paths, e)\n",
    "    df.to_csv(new_path, index=False)"
   ]
  },
  {
   "cell_type": "code",
   "execution_count": null,
   "metadata": {
    "scrolled": true
   },
   "outputs": [],
   "source": [
    "'''\n",
    "------------------------------------NEW DATASET--------------------------------------------------------\n",
    "'''\n",
    "\n",
    "data_dir = \"/raid/xiaoyuz1/goemotions/SemEval2018-Task1-all-data/English/EI-reg\"\n",
    "par_dir_new = \"/raid/xiaoyuz1/goemotions/goemotions/data/semeval2018\"\n",
    "\n",
    "for e in [\"anger\", \"fear\", \"joy\", \"sadness\"]:\n",
    "    paths = []\n",
    "    for a in os.listdir(data_dir):\n",
    "        sub_dir = os.path.join(data_dir, a)\n",
    "\n",
    "        for b in os.listdir(sub_dir):\n",
    "            path = os.path.join(sub_dir, b)\n",
    "#             if not e in path:\n",
    "#                 continue\n",
    "            \n",
    "            paths.append(path)\n",
    "#     print(e, paths)\n",
    "    new_path = os.path.join(par_dir_new, \"{}.csv\".format(e))\n",
    "    df = ped.read4(paths, e)\n",
    "    df.to_csv(new_path, index=False)"
   ]
  },
  {
   "cell_type": "code",
   "execution_count": null,
   "metadata": {},
   "outputs": [],
   "source": [
    "'''\n",
    "------------------------------------NEW DATASET--------------------------------------------------------\n",
    "'''\n",
    "# Daily Dialog\n",
    "text_file = \"/raid/xiaoyuz1/goemotions/DailyDialog/dialogues_text.txt\"\n",
    "emotion_file = \"/raid/xiaoyuz1/goemotions/DailyDialog/dialogues_emotion.txt\"\n",
    "\n",
    "par_dir_new = \"/raid/xiaoyuz1/goemotions/goemotions/data/dailydialog\"\n",
    "\n",
    "for e in [\"anger\", \"disgust\", \"fear\", \"joy\", \"sadness\", \"surprise\"]:\n",
    "    df = ped.read5(text_file, emotion_file, e)\n",
    "    new_path = os.path.join(par_dir_new, \"{}.csv\".format(e))\n",
    "    df.to_csv(new_path, index=False)"
   ]
  },
  {
   "cell_type": "code",
   "execution_count": 10,
   "metadata": {},
   "outputs": [
    {
     "data": {
      "text/plain": [
       "'Let me see . I am sorry , sir . We will change another one for you . Please wait a moment .'"
      ]
     },
     "execution_count": 10,
     "metadata": {},
     "output_type": "execute_result"
    }
   ],
   "source": [
    "df.iloc[102687]['text']"
   ]
  },
  {
   "cell_type": "code",
   "execution_count": 8,
   "metadata": {},
   "outputs": [
    {
     "data": {
      "text/html": [
       "<div>\n",
       "<style scoped>\n",
       "    .dataframe tbody tr th:only-of-type {\n",
       "        vertical-align: middle;\n",
       "    }\n",
       "\n",
       "    .dataframe tbody tr th {\n",
       "        vertical-align: top;\n",
       "    }\n",
       "\n",
       "    .dataframe thead th {\n",
       "        text-align: right;\n",
       "    }\n",
       "</style>\n",
       "<table border=\"1\" class=\"dataframe\">\n",
       "  <thead>\n",
       "    <tr style=\"text-align: right;\">\n",
       "      <th></th>\n",
       "      <th>text</th>\n",
       "      <th>label</th>\n",
       "    </tr>\n",
       "  </thead>\n",
       "  <tbody>\n",
       "    <tr>\n",
       "      <th>27</th>\n",
       "      <td>Yes , I can't sleep well every night .</td>\n",
       "      <td>1</td>\n",
       "    </tr>\n",
       "    <tr>\n",
       "      <th>67</th>\n",
       "      <td>I really can't work overtime . Because my husb...</td>\n",
       "      <td>1</td>\n",
       "    </tr>\n",
       "    <tr>\n",
       "      <th>117</th>\n",
       "      <td>Www , man !</td>\n",
       "      <td>1</td>\n",
       "    </tr>\n",
       "    <tr>\n",
       "      <th>147</th>\n",
       "      <td>Whatever am i going to tell me parents .</td>\n",
       "      <td>1</td>\n",
       "    </tr>\n",
       "    <tr>\n",
       "      <th>295</th>\n",
       "      <td>Yeah , but nothing was clear during the test .</td>\n",
       "      <td>1</td>\n",
       "    </tr>\n",
       "    <tr>\n",
       "      <th>...</th>\n",
       "      <td>...</td>\n",
       "      <td>...</td>\n",
       "    </tr>\n",
       "    <tr>\n",
       "      <th>102568</th>\n",
       "      <td>I'm sorry .</td>\n",
       "      <td>1</td>\n",
       "    </tr>\n",
       "    <tr>\n",
       "      <th>102687</th>\n",
       "      <td>Let me see . I am sorry , sir . We will change...</td>\n",
       "      <td>1</td>\n",
       "    </tr>\n",
       "    <tr>\n",
       "      <th>102695</th>\n",
       "      <td>I am worried about how I am going to pay my tu...</td>\n",
       "      <td>1</td>\n",
       "    </tr>\n",
       "    <tr>\n",
       "      <th>102727</th>\n",
       "      <td>I ' m sorry sir , but we ran out of chicken . ...</td>\n",
       "      <td>1</td>\n",
       "    </tr>\n",
       "    <tr>\n",
       "      <th>102818</th>\n",
       "      <td>What ? That ’ s odd . I ’ m so sorry if I ’ Ve...</td>\n",
       "      <td>1</td>\n",
       "    </tr>\n",
       "  </tbody>\n",
       "</table>\n",
       "<p>1150 rows × 2 columns</p>\n",
       "</div>"
      ],
      "text/plain": [
       "                                                     text label\n",
       "27                 Yes , I can't sleep well every night .     1\n",
       "67      I really can't work overtime . Because my husb...     1\n",
       "117                                           Www , man !     1\n",
       "147              Whatever am i going to tell me parents .     1\n",
       "295        Yeah , but nothing was clear during the test .     1\n",
       "...                                                   ...   ...\n",
       "102568                                        I'm sorry .     1\n",
       "102687  Let me see . I am sorry , sir . We will change...     1\n",
       "102695  I am worried about how I am going to pay my tu...     1\n",
       "102727  I ' m sorry sir , but we ran out of chicken . ...     1\n",
       "102818  What ? That ’ s odd . I ’ m so sorry if I ’ Ve...     1\n",
       "\n",
       "[1150 rows x 2 columns]"
      ]
     },
     "execution_count": 8,
     "metadata": {},
     "output_type": "execute_result"
    }
   ],
   "source": [
    "df[df['label'] == \"1\"]"
   ]
  },
  {
   "cell_type": "code",
   "execution_count": null,
   "metadata": {},
   "outputs": [],
   "source": [
    "L[0].split(\"__eou__\")[0].strip()"
   ]
  },
  {
   "cell_type": "code",
   "execution_count": null,
   "metadata": {},
   "outputs": [],
   "source": []
  },
  {
   "cell_type": "code",
   "execution_count": null,
   "metadata": {},
   "outputs": [],
   "source": []
  },
  {
   "cell_type": "code",
   "execution_count": null,
   "metadata": {},
   "outputs": [],
   "source": [
    "paths = [\n",
    "    '/raid/xiaoyuz1/goemotions/goemotions/data/affectivetext/anger.csv',\n",
    "    '/raid/xiaoyuz1/goemotions/goemotions/data/wassa2017/anger.csv',\n",
    "    '/raid/xiaoyuz1/goemotions/goemotions/data/semeval2018/anger.csv',\n",
    "    '/raid/xiaoyuz1/goemotions/goemotions/data/semeval2018_c/anger.csv',\n",
    "]\n",
    "\n",
    "df = ped.merge(paths)\n",
    "df.to_csv(\"/raid/xiaoyuz1/goemotions/goemotions/data/ekman/anger/train.csv\", index=False)"
   ]
  },
  {
   "cell_type": "code",
   "execution_count": null,
   "metadata": {},
   "outputs": [],
   "source": [
    "paths = [\n",
    "    '/raid/xiaoyuz1/goemotions/goemotions/data/goemotions/dev/anger.csv',\n",
    "]\n",
    "\n",
    "df = ped.merge(paths)\n",
    "df.to_csv(\"/raid/xiaoyuz1/goemotions/goemotions/data/ekman/anger/dev.csv\", index=False)"
   ]
  },
  {
   "cell_type": "code",
   "execution_count": null,
   "metadata": {},
   "outputs": [],
   "source": [
    "paths = [\n",
    "    '/raid/xiaoyuz1/goemotions/goemotions/data/goemotions/test/anger.csv',\n",
    "]\n",
    "\n",
    "df = ped.merge(paths)\n",
    "df.to_csv(\"/raid/xiaoyuz1/goemotions/goemotions/data/ekman/anger/test.csv\", index=False)"
   ]
  },
  {
   "cell_type": "code",
   "execution_count": null,
   "metadata": {},
   "outputs": [],
   "source": []
  },
  {
   "cell_type": "code",
   "execution_count": null,
   "metadata": {},
   "outputs": [],
   "source": []
  },
  {
   "cell_type": "code",
   "execution_count": null,
   "metadata": {},
   "outputs": [],
   "source": []
  },
  {
   "cell_type": "code",
   "execution_count": null,
   "metadata": {},
   "outputs": [],
   "source": []
  },
  {
   "cell_type": "code",
   "execution_count": null,
   "metadata": {},
   "outputs": [],
   "source": []
  },
  {
   "cell_type": "code",
   "execution_count": null,
   "metadata": {},
   "outputs": [],
   "source": []
  },
  {
   "cell_type": "code",
   "execution_count": null,
   "metadata": {},
   "outputs": [],
   "source": []
  },
  {
   "cell_type": "code",
   "execution_count": null,
   "metadata": {},
   "outputs": [],
   "source": []
  }
 ],
 "metadata": {
  "kernelspec": {
   "display_name": "myenv",
   "language": "python",
   "name": "myenv"
  },
  "language_info": {
   "codemirror_mode": {
    "name": "ipython",
    "version": 3
   },
   "file_extension": ".py",
   "mimetype": "text/x-python",
   "name": "python",
   "nbconvert_exporter": "python",
   "pygments_lexer": "ipython3",
   "version": "3.8.12"
  }
 },
 "nbformat": 4,
 "nbformat_minor": 4
}
