{
 "cells": [
  {
   "cell_type": "code",
   "execution_count": 1,
   "metadata": {},
   "outputs": [],
   "source": [
    "import pandas as pd"
   ]
  },
  {
   "cell_type": "code",
   "execution_count": null,
   "metadata": {},
   "outputs": [],
   "source": [
    "# id anger disgust fear joy sadness surprise\n",
    "# label: 0 1 2 3 4 5"
   ]
  },
  {
   "cell_type": "code",
   "execution_count": 3,
   "metadata": {},
   "outputs": [],
   "source": [
    "# AffectiveText\n",
    "thresh = 20\n",
    "def read1(tweet_fs, emotion_fs):\n",
    "    texts = []\n",
    "    labels = []\n",
    "    \n",
    "    for tweet_f, emotion_f in zip(tweet_fs, emotion_fs):\n",
    "    \n",
    "        fh1 = open(tweet_f, \"r\")\n",
    "        fh2 = open(emotion_f, \"r\")\n",
    "        L1 = fh1.readlines()\n",
    "        L2 = fh2.readlines()\n",
    "\n",
    "        lineNo = 0\n",
    "    \n",
    "    \n",
    "        for line in L1:\n",
    "            if not line.startswith(\"<instance\"):\n",
    "                continue \n",
    "            text = line.split(\">\")[1].split(\"<\")[0]\n",
    "            label_raw = L2[lineNo].strip().split(\" \")[1:]\n",
    "\n",
    "            texts.append(text)\n",
    "            label_text = []\n",
    "            for li, l in enumerate(label_raw):\n",
    "                if int(l) >= thresh:\n",
    "                    label_text.append(str(li))\n",
    "            if len(label_text) > 0:\n",
    "                labels.append(\",\".join(label_text))\n",
    "            else:\n",
    "                labels.append(\"6\")\n",
    "            lineNo += 1\n",
    "    \n",
    "    df = pd.DataFrame({'text': texts,\n",
    "                   'label': labels})\n",
    "    \n",
    "    return df\n",
    "\n",
    "tweet_f1 = \"/raid/xiaoyuz1/goemotions/metaData/AffectiveText.test/affectivetext_test.xml\"\n",
    "emotion_f1 = \"/raid/xiaoyuz1/goemotions/metaData/AffectiveText.test/affectivetext_test.emotions.gold\"\n",
    "tweet_f2 = \"/raid/xiaoyuz1/goemotions/metaData/AffectiveText.trial/affectivetext_trial.xml\"\n",
    "emotion_f2 = \"/raid/xiaoyuz1/goemotions/metaData/AffectiveText.trial/affectivetext_trial.emotions.gold\"\n",
    "\n",
    "df1 = read1([tweet_f1, tweet_f2], [emotion_f1, emotion_f2])\n",
    "# df1.to_csv()"
   ]
  },
  {
   "cell_type": "code",
   "execution_count": null,
   "metadata": {},
   "outputs": [],
   "source": []
  },
  {
   "cell_type": "code",
   "execution_count": null,
   "metadata": {},
   "outputs": [],
   "source": []
  },
  {
   "cell_type": "code",
   "execution_count": null,
   "metadata": {},
   "outputs": [],
   "source": []
  },
  {
   "cell_type": "code",
   "execution_count": null,
   "metadata": {},
   "outputs": [],
   "source": []
  },
  {
   "cell_type": "code",
   "execution_count": null,
   "metadata": {},
   "outputs": [],
   "source": []
  },
  {
   "cell_type": "code",
   "execution_count": null,
   "metadata": {},
   "outputs": [],
   "source": []
  },
  {
   "cell_type": "code",
   "execution_count": null,
   "metadata": {},
   "outputs": [],
   "source": []
  },
  {
   "cell_type": "code",
   "execution_count": null,
   "metadata": {},
   "outputs": [],
   "source": []
  },
  {
   "cell_type": "code",
   "execution_count": null,
   "metadata": {},
   "outputs": [],
   "source": []
  },
  {
   "cell_type": "code",
   "execution_count": null,
   "metadata": {},
   "outputs": [],
   "source": []
  },
  {
   "cell_type": "code",
   "execution_count": null,
   "metadata": {},
   "outputs": [],
   "source": []
  },
  {
   "cell_type": "code",
   "execution_count": null,
   "metadata": {},
   "outputs": [],
   "source": []
  }
 ],
 "metadata": {
  "kernelspec": {
   "display_name": "myenv",
   "language": "python",
   "name": "myenv"
  },
  "language_info": {
   "codemirror_mode": {
    "name": "ipython",
    "version": 3
   },
   "file_extension": ".py",
   "mimetype": "text/x-python",
   "name": "python",
   "nbconvert_exporter": "python",
   "pygments_lexer": "ipython3",
   "version": "3.8.12"
  }
 },
 "nbformat": 4,
 "nbformat_minor": 4
}
