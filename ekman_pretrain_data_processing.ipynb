{
 "cells": [
  {
   "cell_type": "code",
   "execution_count": 1,
   "metadata": {},
   "outputs": [
    {
     "data": {
      "text/plain": [
       "<module 'process_ekman_data' from '/home/xiaoyuz1/emotion-infused/process_ekman_data.py'>"
      ]
     },
     "execution_count": 1,
     "metadata": {},
     "output_type": "execute_result"
    }
   ],
   "source": [
    "import os\n",
    "import pandas as pd\n",
    "import process_ekman_data as ped\n",
    "from importlib import reload\n",
    "reload(ped)"
   ]
  },
  {
   "cell_type": "code",
   "execution_count": null,
   "metadata": {},
   "outputs": [],
   "source": [
    "# GoEmotions\n",
    "\n",
    "go_f = \"/raid/xiaoyuz1/goemotions/goemotions/data/dev_ekman.csv\"\n",
    "par_dirs = \"/raid/xiaoyuz1/goemotions/goemotions/data/goemotions\"\n",
    "\n",
    "for div in [\"train\", \"dev\", \"test\"]:\n",
    "    go_f = \"/raid/xiaoyuz1/goemotions/goemotions/data/{}_ekman.csv\".format(div)\n",
    "    par_dir = os.path.join(\"/raid/xiaoyuz1/goemotions/goemotions/data/goemotions\", div)\n",
    "    for e in [\"anger\", \"disgust\", \"fear\", \"joy\", \"sadness\", \"surprise\", \"neutral\"]:\n",
    "        df = ped.read_goemotions(go_f, e)\n",
    "        save_dir = os.path.join(par_dir, \"{}.csv\".format(e))\n",
    "        df.to_csv(save_dir, index=False)"
   ]
  },
  {
   "cell_type": "code",
   "execution_count": null,
   "metadata": {},
   "outputs": [],
   "source": [
    "'''\n",
    "------------------------------------NEW DATASET--------------------------------------------------------\n",
    "'''\n",
    "# AffectiveText\n",
    "# id anger disgust fear joy sadness surprise\n",
    "# label: 0 1 2 3 4 5\n",
    "\n",
    "tweet_f1 = \"/raid/xiaoyuz1/goemotions/AffectiveText.Semeval.2007/AffectiveText.test/affectivetext_test.xml\"\n",
    "emotion_f1 = \\\n",
    "    \"/raid/xiaoyuz1/goemotions/AffectiveText.Semeval.2007/AffectiveText.test/affectivetext_test.emotions.gold\"\n",
    "tweet_f2 = \\\n",
    "    \"/raid/xiaoyuz1/goemotions/AffectiveText.Semeval.2007/AffectiveText.trial/affectivetext_trial.xml\"\n",
    "emotion_f2 = \\\n",
    "    \"/raid/xiaoyuz1/goemotions/AffectiveText.Semeval.2007/AffectiveText.trial/affectivetext_trial.emotions.gold\"\n",
    "\n",
    "par_dir = \"/raid/xiaoyuz1/goemotions/goemotions/data/affectivetext\"\n",
    "\n",
    "for e in [\"anger\", \"disgust\", \"fear\", \"joy\", \"sadness\", \"surprise\", \"neutral\"]:\n",
    "    save_dir = os.path.join(par_dir, \"{}.csv\".format(e))\n",
    "    df1 = ped.read1([tweet_f1, tweet_f2], [emotion_f1, emotion_f2], e)\n",
    "    df1.to_csv(save_dir, index=False)"
   ]
  },
  {
   "cell_type": "code",
   "execution_count": null,
   "metadata": {},
   "outputs": [],
   "source": [
    "'''\n",
    "------------------------------------NEW DATASET--------------------------------------------------------\n",
    "'''\n",
    "# /raid/xiaoyuz1/goemotions/WASSA-2017\n",
    "# http://saifmohammad.com/WebPages/EmotionIntensity-SharedTask.html\n",
    "\n",
    "par_dir = \"/raid/xiaoyuz1/goemotions/WASSA-2017\"\n",
    "paths = [os.path.join(par_dir, p) for p in os.listdir(par_dir)]\n",
    "\n",
    "par_dir_new = \"/raid/xiaoyuz1/goemotions/goemotions/data/wassa2017\"\n",
    "\n",
    "for e in [\"sadness\", \"fear\", \"anger\", \"joy\", \"neutral\"]:\n",
    "    df = ped.read2(paths, e)\n",
    "    path_dir = os.path.join(par_dir_new, \"{}.csv\".format(e))\n",
    "    df.to_csv(path_dir, index=False)"
   ]
  },
  {
   "cell_type": "code",
   "execution_count": null,
   "metadata": {},
   "outputs": [],
   "source": []
  },
  {
   "cell_type": "code",
   "execution_count": null,
   "metadata": {},
   "outputs": [],
   "source": []
  },
  {
   "cell_type": "code",
   "execution_count": null,
   "metadata": {
    "scrolled": true
   },
   "outputs": [],
   "source": [
    "'''\n",
    "------------------------------------NEW DATASET--------------------------------------------------------\n",
    "'''\n",
    "data_dir = \"/raid/xiaoyuz1/goemotions/SemEval2018-Task1-all-data/English/E-c\"\n",
    "par_dir_new = \"/raid/xiaoyuz1/goemotions/goemotions/data/semeval2018_c\"\n",
    "\n",
    "for e in [\"anger\", \"fear\", \"joy\", \"sadness\", \"disgust\", \"surprise\"]:\n",
    "    paths = []\n",
    "    for a in os.listdir(data_dir):\n",
    "        if not a.split(\".\")[1] == \"txt\":\n",
    "            continue\n",
    "            \n",
    "        path = os.path.join(data_dir, a)\n",
    "        paths.append(path)\n",
    "        \n",
    "#     print(e, paths)\n",
    "    new_path = os.path.join(par_dir_new, \"{}.csv\".format(e))\n",
    "    df = ped.read3(paths, e)\n",
    "    df.to_csv(new_path, index=False)"
   ]
  },
  {
   "cell_type": "code",
   "execution_count": null,
   "metadata": {
    "scrolled": true
   },
   "outputs": [],
   "source": [
    "'''\n",
    "------------------------------------NEW DATASET--------------------------------------------------------\n",
    "'''\n",
    "\n",
    "data_dir = \"/raid/xiaoyuz1/goemotions/SemEval2018-Task1-all-data/English/EI-reg\"\n",
    "par_dir_new = \"/raid/xiaoyuz1/goemotions/goemotions/data/semeval2018\"\n",
    "\n",
    "for e in [\"anger\", \"fear\", \"joy\", \"sadness\"]:\n",
    "    paths = []\n",
    "    for a in os.listdir(data_dir):\n",
    "        sub_dir = os.path.join(data_dir, a)\n",
    "\n",
    "        for b in os.listdir(sub_dir):\n",
    "            path = os.path.join(sub_dir, b)\n",
    "#             if not e in path:\n",
    "#                 continue\n",
    "            \n",
    "            paths.append(path)\n",
    "#     print(e, paths)\n",
    "    new_path = os.path.join(par_dir_new, \"{}.csv\".format(e))\n",
    "    df = ped.read4(paths, e)\n",
    "    df.to_csv(new_path, index=False)"
   ]
  },
  {
   "cell_type": "code",
   "execution_count": null,
   "metadata": {},
   "outputs": [],
   "source": [
    "'''\n",
    "------------------------------------NEW DATASET--------------------------------------------------------\n",
    "'''\n",
    "# Daily Dialog\n",
    "text_file = \"/raid/xiaoyuz1/goemotions/DailyDialog/dialogues_text.txt\"\n",
    "emotion_file = \"/raid/xiaoyuz1/goemotions/DailyDialog/dialogues_emotion.txt\"\n",
    "\n",
    "par_dir_new = \"/raid/xiaoyuz1/goemotions/goemotions/data/dailydialog\"\n",
    "\n",
    "for e in [\"anger\", \"disgust\", \"fear\", \"joy\", \"sadness\", \"surprise\"]:\n",
    "    df = ped.read5(text_file, emotion_file, e)\n",
    "    new_path = os.path.join(par_dir_new, \"{}.csv\".format(e))\n",
    "    df.to_csv(new_path, index=False)"
   ]
  },
  {
   "cell_type": "code",
   "execution_count": null,
   "metadata": {
    "scrolled": true
   },
   "outputs": [],
   "source": [
    "'''\n",
    "------------------------------------NEW DATASET--------------------------------------------------------\n",
    "'''\n",
    "df1 = ped.read6(\"/raid/xiaoyuz1/goemotions/GroundedEmotions/collected_data/collected_tweets.txt\", \"sad\")"
   ]
  },
  {
   "cell_type": "code",
   "execution_count": null,
   "metadata": {
    "scrolled": true
   },
   "outputs": [],
   "source": [
    "df1.to_csv(\"/raid/xiaoyuz1/goemotions/goemotions/data/groundedemotion/sadness.csv\", index=False)\n",
    "df2 = ped.read6(\"/raid/xiaoyuz1/goemotions/GroundedEmotions/collected_data/collected_tweets.txt\", \"happy\")\n",
    "df2.to_csv(\"/raid/xiaoyuz1/goemotions/goemotions/data/groundedemotion/joy.csv\", index=False)"
   ]
  },
  {
   "cell_type": "code",
   "execution_count": null,
   "metadata": {},
   "outputs": [],
   "source": [
    "'''\n",
    "------------------------------------NEW DATASET--------------------------------------------------------\n",
    "'''\n",
    "path = \"/raid/xiaoyuz1/goemotions/EmotionStimulus/Emotion Cause.txt\"\n",
    "emos = [\"happy\", \"sad\", \"anger\", \"fear\", \"surprise\", \"disgust\"]\n",
    "mapped_e = [\"joy\", \"sadness\", \"anger\", \"fear\", \"surprise\", \"disgust\"]\n",
    "\n",
    "par_dir_new = \"/raid/xiaoyuz1/goemotions/goemotions/data/emotionstimulus\"\n",
    "\n",
    "for e1,e2 in zip(emos, mapped_e):\n",
    "    df = ped.read7(path, e1)\n",
    "    new_path = os.path.join(par_dir_new, \"{}.csv\".format(e2))\n",
    "    df.to_csv(new_path, index=False)"
   ]
  },
  {
   "cell_type": "code",
   "execution_count": null,
   "metadata": {},
   "outputs": [],
   "source": [
    "path = \"/raid/xiaoyuz1/goemotions/EmotionStimulus/No Cause.txt\"\n",
    "emos = [\"happy\", \"sad\", \"anger\", \"fear\", \"surprise\", \"disgust\"]\n",
    "mapped_e = [\"joy\", \"sadness\", \"anger\", \"fear\", \"surprise\", \"disgust\"]\n",
    "\n",
    "par_dir_new = \"/raid/xiaoyuz1/goemotions/goemotions/data/emotionstimulus_2\"\n",
    "\n",
    "for e1,e2 in zip(emos, mapped_e):\n",
    "    df = ped.read7(path, e1)\n",
    "    new_path = os.path.join(par_dir_new, \"{}.csv\".format(e2))\n",
    "    df.to_csv(new_path, index=False)"
   ]
  },
  {
   "cell_type": "code",
   "execution_count": null,
   "metadata": {},
   "outputs": [],
   "source": [
    "'''\n",
    "------------------------------------NEW DATASET--------------------------------------------------------\n",
    "'''\n",
    "emos = ['neutral', 'surprise', 'fear', 'sadness', 'joy', 'disgust', 'anger']\n",
    "paths = [\n",
    "    \"/raid/xiaoyuz1/goemotions/MELD/train_sent_emo.csv\",\n",
    "    \"/raid/xiaoyuz1/goemotions/MELD/dev_sent_emo.csv\",\n",
    "    \"/raid/xiaoyuz1/goemotions/MELD/test_sent_emo.csv\",\n",
    "]\n",
    "\n",
    "par_dir_new = \"/raid/xiaoyuz1/goemotions/goemotions/data/friends\"\n",
    "\n",
    "\n",
    "for e in emos:\n",
    "    df = ped.read8(paths, e)\n",
    "    new_path = os.path.join(par_dir_new, \"{}.csv\".format(e))\n",
    "    df.to_csv(new_path, index=False)"
   ]
  },
  {
   "cell_type": "code",
   "execution_count": null,
   "metadata": {},
   "outputs": [],
   "source": [
    "'''\n",
    "------------------------------------NEW DATASET--------------------------------------------------------\n",
    "'''\n",
    "\n",
    "emos = ['surprise', 'fear', 'sadness', 'joy', 'disgust', 'anger']\n",
    "par_dir_new = \"/raid/xiaoyuz1/goemotions/goemotions/data/tectweet\"\n",
    "path = \"/raid/xiaoyuz1/goemotions/Jan9-2012-tweets-clean.txt\"\n",
    "\n",
    "for e in emos:\n",
    "    df = ped.read9(path, e)\n",
    "    new_path = os.path.join(par_dir_new, \"{}.csv\".format(e))\n",
    "    df.to_csv(new_path, index=False)"
   ]
  },
  {
   "cell_type": "code",
   "execution_count": null,
   "metadata": {},
   "outputs": [],
   "source": []
  },
  {
   "cell_type": "code",
   "execution_count": null,
   "metadata": {},
   "outputs": [],
   "source": []
  },
  {
   "cell_type": "code",
   "execution_count": null,
   "metadata": {},
   "outputs": [],
   "source": [
    "e = \"sadness\"\n",
    "\n",
    "paths_templates = [\n",
    "    '/raid/xiaoyuz1/goemotions/goemotions/data/affectivetext/{}.csv',\n",
    "    '/raid/xiaoyuz1/goemotions/goemotions/data/wassa2017/{}.csv',\n",
    "    '/raid/xiaoyuz1/goemotions/goemotions/data/semeval2018/{}.csv',\n",
    "    '/raid/xiaoyuz1/goemotions/goemotions/data/semeval2018_c/{}.csv',\n",
    "    '/raid/xiaoyuz1/goemotions/goemotions/data/dailydialog/{}.csv',\n",
    "    '/raid/xiaoyuz1/goemotions/goemotions/data/groundedemotion/{}.csv',\n",
    "    '/raid/xiaoyuz1/goemotions/goemotions/data/emotionstimulus/{}.csv',\n",
    "    '/raid/xiaoyuz1/goemotions/goemotions/data/emotionstimulus_2/{}.csv',\n",
    "    '/raid/xiaoyuz1/goemotions/goemotions/data/friends/{}.csv',\n",
    "    '/raid/xiaoyuz1/goemotions/goemotions/data/tectweet/{}.csv',\n",
    "]\n",
    "\n",
    "paths = [p.format(e) for p in paths_templates]\n",
    "df = ped.merge(paths)\n",
    "df.to_csv(\"/raid/xiaoyuz1/goemotions/goemotions/data/ekman/{}/train.csv\".format(e), index=False)\n",
    "\n",
    "paths = [\n",
    "    '/raid/xiaoyuz1/goemotions/goemotions/data/goemotions/dev/{}.csv'.format(e),\n",
    "]\n",
    "df = ped.merge(paths)\n",
    "df.to_csv(\"/raid/xiaoyuz1/goemotions/goemotions/data/ekman/{}/dev.csv\".format(e), index=False)\n",
    "\n",
    "\n",
    "paths = [\n",
    "    '/raid/xiaoyuz1/goemotions/goemotions/data/goemotions/test/{}.csv'.format(e),\n",
    "]\n",
    "df = ped.merge(paths)\n",
    "df.to_csv(\"/raid/xiaoyuz1/goemotions/goemotions/data/ekman/{}/test.csv\".format(e), index=False)"
   ]
  },
  {
   "cell_type": "code",
   "execution_count": null,
   "metadata": {},
   "outputs": [],
   "source": [
    "!ls /raid/xiaoyuz1/goemotions/goemotions/data/groundedemotion"
   ]
  },
  {
   "cell_type": "code",
   "execution_count": null,
   "metadata": {},
   "outputs": [],
   "source": [
    "df = pd.read_csv(\"/raid/xiaoyuz1/goemotions/goemotions/data/ekman/sadness/train.csv\")"
   ]
  },
  {
   "cell_type": "code",
   "execution_count": null,
   "metadata": {},
   "outputs": [],
   "source": [
    "df[df['label'] == 1]"
   ]
  },
  {
   "cell_type": "code",
   "execution_count": 24,
   "metadata": {},
   "outputs": [
    {
     "data": {
      "text/plain": [
       "nan"
      ]
     },
     "execution_count": 24,
     "metadata": {},
     "output_type": "execute_result"
    }
   ],
   "source": [
    "df.iloc[154901]['text']"
   ]
  },
  {
   "cell_type": "code",
   "execution_count": 33,
   "metadata": {},
   "outputs": [],
   "source": [
    "df = pd.read_csv(\"/raid/xiaoyuz1/goemotions/goemotions/data/ekman/sadness/train.csv\")"
   ]
  },
  {
   "cell_type": "code",
   "execution_count": 34,
   "metadata": {},
   "outputs": [],
   "source": [
    "def filter_fn(row):\n",
    "    if row['text'] is np.nan:\n",
    "        return False\n",
    "    else:\n",
    "        return True\n",
    "\n",
    "m = df.apply(filter_fn, axis=1)"
   ]
  },
  {
   "cell_type": "code",
   "execution_count": 35,
   "metadata": {},
   "outputs": [
    {
     "data": {
      "text/plain": [
       "(0,)"
      ]
     },
     "execution_count": 35,
     "metadata": {},
     "output_type": "execute_result"
    }
   ],
   "source": [
    "np.where(~m)[0].shape"
   ]
  },
  {
   "cell_type": "code",
   "execution_count": 25,
   "metadata": {},
   "outputs": [
    {
     "data": {
      "text/plain": [
       "174046"
      ]
     },
     "execution_count": 25,
     "metadata": {},
     "output_type": "execute_result"
    }
   ],
   "source": [
    "len(df)"
   ]
  },
  {
   "cell_type": "code",
   "execution_count": 32,
   "metadata": {},
   "outputs": [],
   "source": [
    "df[m].to_csv(\"/raid/xiaoyuz1/goemotions/goemotions/data/ekman/sadness/train.csv\", index=False)"
   ]
  },
  {
   "cell_type": "code",
   "execution_count": null,
   "metadata": {},
   "outputs": [],
   "source": []
  },
  {
   "cell_type": "code",
   "execution_count": 36,
   "metadata": {},
   "outputs": [
    {
     "name": "stdout",
     "output_type": "stream",
     "text": [
      "/raid/xiaoyuz1/goemotions/goemotions/data/ekman/anger/test.csv (0,)\n",
      "/raid/xiaoyuz1/goemotions/goemotions/data/ekman/anger/dev.csv (0,)\n",
      "/raid/xiaoyuz1/goemotions/goemotions/data/ekman/anger/train.csv (24,)\n",
      "/raid/xiaoyuz1/goemotions/goemotions/data/ekman/joy/test.csv (0,)\n",
      "/raid/xiaoyuz1/goemotions/goemotions/data/ekman/joy/dev.csv (0,)\n",
      "/raid/xiaoyuz1/goemotions/goemotions/data/ekman/joy/train.csv (0,)\n",
      "/raid/xiaoyuz1/goemotions/goemotions/data/ekman/sadness/test.csv (0,)\n",
      "/raid/xiaoyuz1/goemotions/goemotions/data/ekman/sadness/dev.csv (0,)\n",
      "/raid/xiaoyuz1/goemotions/goemotions/data/ekman/sadness/train.csv (0,)\n"
     ]
    }
   ],
   "source": [
    "import numpy as np\n",
    "\n",
    "def filter_fn(row):\n",
    "    if row['text'] is np.nan:\n",
    "        return False\n",
    "    else:\n",
    "        return True\n",
    "\n",
    "\n",
    "par_dir = \"/raid/xiaoyuz1/goemotions/goemotions/data/ekman\"\n",
    "for sub_dir_path in os.listdir(par_dir):\n",
    "    sub_dir = os.path.join(par_dir, sub_dir_path)\n",
    "    \n",
    "    for path_part in os.listdir(sub_dir):\n",
    "        \n",
    "        if path_part.split(\".\")[1] != \"csv\":\n",
    "            continue\n",
    "        \n",
    "        path = os.path.join(sub_dir, path_part)\n",
    "        df = pd.read_csv(path)\n",
    "        m = df.apply(filter_fn, axis=1)\n",
    "        print(path, np.where(~m)[0].shape)\n",
    "        df[m].to_csv(path, index=False)"
   ]
  },
  {
   "cell_type": "code",
   "execution_count": 14,
   "metadata": {},
   "outputs": [
    {
     "data": {
      "text/plain": [
       "True"
      ]
     },
     "execution_count": 14,
     "metadata": {},
     "output_type": "execute_result"
    }
   ],
   "source": [
    "df['text'].iloc[153971] is np.nan"
   ]
  },
  {
   "cell_type": "code",
   "execution_count": null,
   "metadata": {},
   "outputs": [],
   "source": []
  },
  {
   "cell_type": "code",
   "execution_count": null,
   "metadata": {},
   "outputs": [],
   "source": []
  },
  {
   "cell_type": "code",
   "execution_count": null,
   "metadata": {},
   "outputs": [],
   "source": []
  }
 ],
 "metadata": {
  "kernelspec": {
   "display_name": "myenv",
   "language": "python",
   "name": "myenv"
  },
  "language_info": {
   "codemirror_mode": {
    "name": "ipython",
    "version": 3
   },
   "file_extension": ".py",
   "mimetype": "text/x-python",
   "name": "python",
   "nbconvert_exporter": "python",
   "pygments_lexer": "ipython3",
   "version": "3.8.12"
  }
 },
 "nbformat": 4,
 "nbformat_minor": 4
}
