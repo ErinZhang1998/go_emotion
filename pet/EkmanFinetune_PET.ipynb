{
 "cells": [
  {
   "cell_type": "code",
   "execution_count": 1,
   "metadata": {},
   "outputs": [],
   "source": [
    "import argparse\n",
    "import os\n",
    "from typing import Tuple\n",
    "\n",
    "import torch\n",
    "\n",
    "from pet.tasks import PROCESSORS, load_examples, UNLABELED_SET, TRAIN_SET, DEV_SET, TEST_SET, METRICS, DEFAULT_METRICS\n",
    "from pet.utils import eq_div\n",
    "from pet.wrapper import WRAPPER_TYPES, MODEL_CLASSES, SEQUENCE_CLASSIFIER_WRAPPER, WrapperConfig\n",
    "import pet\n",
    "import log"
   ]
  },
  {
   "cell_type": "code",
   "execution_count": 8,
   "metadata": {},
   "outputs": [
    {
     "name": "stdout",
     "output_type": "stream",
     "text": [
      "{'agnews': <class 'pet.pvp.AgnewsPVP'>, 'mnli': <class 'pet.pvp.MnliPVP'>, 'yelp-polarity': <class 'pet.pvp.YelpPolarityPVP'>, 'yelp-full': <class 'pet.pvp.YelpFullPVP'>, 'yahoo': <class 'pet.pvp.YahooPVP'>, 'xstance': <class 'pet.pvp.XStancePVP'>, 'xstance-de': <class 'pet.pvp.XStancePVP'>, 'xstance-fr': <class 'pet.pvp.XStancePVP'>, 'rte': <class 'pet.pvp.RtePVP'>, 'wic': <class 'pet.pvp.WicPVP'>, 'cb': <class 'pet.pvp.CbPVP'>, 'wsc': <class 'pet.pvp.WscPVP'>, 'boolq': <class 'pet.pvp.BoolQPVP'>, 'copa': <class 'pet.pvp.CopaPVP'>, 'multirc': <class 'pet.pvp.MultiRcPVP'>, 'record': <class 'pet.pvp.RecordPVP'>, 'ax-b': <class 'pet.pvp.RtePVP'>, 'ax-g': <class 'pet.pvp.RtePVP'>}\n"
     ]
    }
   ],
   "source": [
    "from pet.pvp import PVP, PVPS\n",
    "\n",
    "print(PVPS)"
   ]
  },
  {
   "cell_type": "code",
   "execution_count": 6,
   "metadata": {},
   "outputs": [
    {
     "name": "stdout",
     "output_type": "stream",
     "text": [
      "{'sequence_classifier': <class 'pet.preprocessor.SequenceClassifierPreprocessor'>, 'mlm': <class 'pet.preprocessor.MLMPreprocessor'>, 'plm': <class 'pet.preprocessor.PLMPreprocessor'>}\n"
     ]
    }
   ],
   "source": [
    "from pet.wrapper import PREPROCESSORS\n",
    "\n",
    "print(PREPROCESSORS)"
   ]
  },
  {
   "cell_type": "code",
   "execution_count": 7,
   "metadata": {},
   "outputs": [
    {
     "name": "stdout",
     "output_type": "stream",
     "text": [
      "['sequence_classifier', 'mlm', 'plm']\n",
      "dict_keys(['bert', 'roberta', 'xlm-roberta', 'xlnet', 'albert', 'gpt2'])\n"
     ]
    }
   ],
   "source": [
    "print(WRAPPER_TYPES)\n",
    "print(MODEL_CLASSES.keys())"
   ]
  },
  {
   "cell_type": "code",
   "execution_count": null,
   "metadata": {},
   "outputs": [],
   "source": [
    "model_type = 'roberta'\n",
    "model_name_or_path = 'roberta-large'\n",
    "wrapper_type = 'mlm'\n"
   ]
  },
  {
   "cell_type": "code",
   "execution_count": null,
   "metadata": {},
   "outputs": [],
   "source": [
    "model_cfg = WrapperConfig(\n",
    "    model_type=args.model_type, \n",
    "    model_name_or_path=args.model_name_or_path,\n",
    "    wrapper_type=args.wrapper_type, \n",
    "    task_name=args.task_name, \n",
    "    label_list=args.label_list,\n",
    "    max_seq_length=args.pet_max_seq_length, \n",
    "    verbalizer_file=args.verbalizer_file,\n",
    "    cache_dir=args.cache_dir,\n",
    ")"
   ]
  },
  {
   "cell_type": "code",
   "execution_count": null,
   "metadata": {},
   "outputs": [],
   "source": [
    "model_config.pattern_id = pattern_id"
   ]
  },
  {
   "cell_type": "code",
   "execution_count": null,
   "metadata": {},
   "outputs": [],
   "source": [
    "wrapper = init_model(model_config)"
   ]
  },
  {
   "cell_type": "code",
   "execution_count": null,
   "metadata": {},
   "outputs": [],
   "source": [
    "train_single_model(\n",
    "    wrapper, \n",
    "    train_data, \n",
    "    train_config, \n",
    "    eval_config,\n",
    "    ipet_train_data=ipet_train_data,\n",
    "    unlabeled_data=unlabeled_data,\n",
    ")"
   ]
  },
  {
   "cell_type": "code",
   "execution_count": null,
   "metadata": {},
   "outputs": [],
   "source": []
  },
  {
   "cell_type": "code",
   "execution_count": null,
   "metadata": {},
   "outputs": [],
   "source": []
  }
 ],
 "metadata": {
  "kernelspec": {
   "display_name": "myenv",
   "language": "python",
   "name": "myenv"
  },
  "language_info": {
   "codemirror_mode": {
    "name": "ipython",
    "version": 3
   },
   "file_extension": ".py",
   "mimetype": "text/x-python",
   "name": "python",
   "nbconvert_exporter": "python",
   "pygments_lexer": "ipython3",
   "version": "3.8.12"
  }
 },
 "nbformat": 4,
 "nbformat_minor": 4
}
