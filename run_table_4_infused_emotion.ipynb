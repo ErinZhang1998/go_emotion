{
 "cells": [
  {
   "cell_type": "code",
   "execution_count": 1,
   "metadata": {},
   "outputs": [],
   "source": [
    "import csv\n",
    "import numpy as np\n",
    "import pandas as pd\n",
    "import json\n",
    "\n",
    "\n",
    "import os"
   ]
  },
  {
   "cell_type": "code",
   "execution_count": 2,
   "metadata": {},
   "outputs": [],
   "source": [
    "with open('/raid/xiaoyuz1/goemotions/goemotions/data/emotions.txt', 'r') as f:\n",
    "    emotion_list = f.readlines()\n",
    "    emotion_list = [s.strip() for s in emotion_list]\n",
    "\n",
    "emotion_text_to_label = dict(zip(emotion_list, range(len(emotion_list))))\n",
    "label_to_emotion_text = dict(zip(range(len(emotion_list)), emotion_list))"
   ]
  },
  {
   "cell_type": "code",
   "execution_count": 15,
   "metadata": {},
   "outputs": [
    {
     "data": {
      "text/plain": [
       "'approval'"
      ]
     },
     "execution_count": 15,
     "metadata": {},
     "output_type": "execute_result"
    }
   ],
   "source": [
    "label_to_emotion_text[4]"
   ]
  },
  {
   "cell_type": "code",
   "execution_count": 16,
   "metadata": {},
   "outputs": [
    {
     "data": {
      "text/plain": [
       "{'admiration': 0,\n",
       " 'amusement': 1,\n",
       " 'anger': 2,\n",
       " 'annoyance': 3,\n",
       " 'approval': 4,\n",
       " 'caring': 5,\n",
       " 'confusion': 6,\n",
       " 'curiosity': 7,\n",
       " 'desire': 8,\n",
       " 'disappointment': 9,\n",
       " 'disapproval': 10,\n",
       " 'disgust': 11,\n",
       " 'embarrassment': 12,\n",
       " 'excitement': 13,\n",
       " 'fear': 14,\n",
       " 'gratitude': 15,\n",
       " 'grief': 16,\n",
       " 'joy': 17,\n",
       " 'love': 18,\n",
       " 'nervousness': 19,\n",
       " 'optimism': 20,\n",
       " 'pride': 21,\n",
       " 'realization': 22,\n",
       " 'relief': 23,\n",
       " 'remorse': 24,\n",
       " 'sadness': 25,\n",
       " 'surprise': 26,\n",
       " 'neutral': 27}"
      ]
     },
     "execution_count": 16,
     "metadata": {},
     "output_type": "execute_result"
    }
   ],
   "source": [
    "emotion_text_to_label"
   ]
  },
  {
   "cell_type": "code",
   "execution_count": null,
   "metadata": {},
   "outputs": [],
   "source": []
  },
  {
   "cell_type": "code",
   "execution_count": 3,
   "metadata": {},
   "outputs": [
    {
     "name": "stdout",
     "output_type": "stream",
     "text": [
      "2018-EI-oc-En-anger-dev.txt  2018-EI-oc-En-joy-dev.txt\r\n",
      "2018-EI-oc-En-fear-dev.txt   2018-EI-oc-En-sadness-dev.txt\r\n"
     ]
    }
   ],
   "source": [
    "!ls /raid/xiaoyuz1/goemotions/SemEval2018-Task1-all-data/English/EI-oc/development"
   ]
  },
  {
   "cell_type": "code",
   "execution_count": 4,
   "metadata": {},
   "outputs": [],
   "source": [
    "intensity_fdr = \"/raid/xiaoyuz1/goemotions/SemEval2018-Task1-all-data/English/EI-oc\"\n",
    "sub_fdrs = [\"development\", \"test-gold\", \"training\"]\n",
    "\n",
    "\n",
    "all_new_rows = {}\n",
    "acc = 0 \n",
    "for fdr in sub_fdrs:\n",
    "    for file in os.listdir(os.path.join(intensity_fdr, fdr)):\n",
    "        path = os.path.join(intensity_fdr, fdr, file)\n",
    "        df = pd.read_csv(path, sep='\\t')\n",
    "\n",
    "        for i in range(len(df)):\n",
    "            row = df.iloc[i]\n",
    "            \n",
    "            level = row[\"Intensity Class\"].split(\":\")[0]\n",
    "            if int(level) == 0:\n",
    "                continue \n",
    "\n",
    "            row_label = \"{}_{}\".format(row[\"Affect Dimension\"], level)\n",
    "            new_row = [row[\"Tweet\"], row_label]\n",
    "            all_new_rows[acc] = new_row\n",
    "\n",
    "            acc += 1"
   ]
  },
  {
   "cell_type": "code",
   "execution_count": null,
   "metadata": {},
   "outputs": [],
   "source": []
  },
  {
   "cell_type": "code",
   "execution_count": 5,
   "metadata": {},
   "outputs": [],
   "source": [
    "df_new = pd.DataFrame.from_dict(all_new_rows, orient='index', columns=['text', 'label'])\n",
    "df_new.reset_index(drop=True, inplace=True)"
   ]
  },
  {
   "cell_type": "code",
   "execution_count": 6,
   "metadata": {},
   "outputs": [
    {
     "data": {
      "text/plain": [
       "array(['fear_2', 'fear_3', 'fear_1', 'joy_1', 'joy_3', 'joy_2', 'anger_1',\n",
       "       'anger_2', 'anger_3', 'sadness_2', 'sadness_3', 'sadness_1'],\n",
       "      dtype=object)"
      ]
     },
     "execution_count": 6,
     "metadata": {},
     "output_type": "execute_result"
    }
   ],
   "source": [
    "df_new[\"label\"].unique()"
   ]
  },
  {
   "cell_type": "code",
   "execution_count": 7,
   "metadata": {},
   "outputs": [],
   "source": [
    "new_path = \"/raid/xiaoyuz1/goemotions/SemEval2018-Task1-all-data/English/EI-oc/EIoc_goemotions_train.csv\"\n",
    "df_new.to_csv(new_path, index=False)"
   ]
  },
  {
   "cell_type": "code",
   "execution_count": null,
   "metadata": {},
   "outputs": [],
   "source": []
  },
  {
   "cell_type": "code",
   "execution_count": 3,
   "metadata": {},
   "outputs": [],
   "source": [
    "def process_other_data(path, new_path, emotion_text_to_label):\n",
    "    df = pd.read_csv(path, sep='\\t')\n",
    "    all_new_rows = {}\n",
    "    acc = 0\n",
    "    for i in range(len(df)):\n",
    "        row = df.iloc[i]\n",
    "        flag = False\n",
    "        row_text = None\n",
    "        new_row = []\n",
    "        for k,v in row.items():\n",
    "            if(k == \"Tweet\"):\n",
    "                row_text = v\n",
    "                continue\n",
    "\n",
    "            if k in emotion_text_to_label and v==1:\n",
    "                flag = True\n",
    "                new_row.append(str(emotion_text_to_label[k]))\n",
    "        if(not flag):\n",
    "            continue\n",
    "\n",
    "        all_new_rows[acc] = [row_text, \",\".join(new_row)]\n",
    "        acc += 1\n",
    "\n",
    "    df_new = pd.DataFrame.from_dict(all_new_rows, orient='index', columns=['text', 'label'])\n",
    "    df_new.reset_index(drop=True, inplace=True)\n",
    "    df_new.to_csv(new_path, index=False)\n",
    "    \n",
    "    return df_new"
   ]
  },
  {
   "cell_type": "code",
   "execution_count": 6,
   "metadata": {},
   "outputs": [
    {
     "data": {
      "text/html": [
       "<div>\n",
       "<style scoped>\n",
       "    .dataframe tbody tr th:only-of-type {\n",
       "        vertical-align: middle;\n",
       "    }\n",
       "\n",
       "    .dataframe tbody tr th {\n",
       "        vertical-align: top;\n",
       "    }\n",
       "\n",
       "    .dataframe thead th {\n",
       "        text-align: right;\n",
       "    }\n",
       "</style>\n",
       "<table border=\"1\" class=\"dataframe\">\n",
       "  <thead>\n",
       "    <tr style=\"text-align: right;\">\n",
       "      <th></th>\n",
       "      <th>text</th>\n",
       "      <th>label</th>\n",
       "    </tr>\n",
       "  </thead>\n",
       "  <tbody>\n",
       "    <tr>\n",
       "      <th>0</th>\n",
       "      <td>@Adnan__786__ @AsYouNotWish Dont worry Indian ...</td>\n",
       "      <td>2,20</td>\n",
       "    </tr>\n",
       "    <tr>\n",
       "      <th>1</th>\n",
       "      <td>Academy of Sciences, eschews the normally sobe...</td>\n",
       "      <td>11</td>\n",
       "    </tr>\n",
       "    <tr>\n",
       "      <th>2</th>\n",
       "      <td>I blew that opportunity -__- #mad</td>\n",
       "      <td>2,11,25</td>\n",
       "    </tr>\n",
       "    <tr>\n",
       "      <th>3</th>\n",
       "      <td>This time in 2 weeks I will be 30... 😥</td>\n",
       "      <td>17,25</td>\n",
       "    </tr>\n",
       "    <tr>\n",
       "      <th>4</th>\n",
       "      <td>#Deppression is real. Partners w/ #depressed p...</td>\n",
       "      <td>14,25</td>\n",
       "    </tr>\n",
       "    <tr>\n",
       "      <th>...</th>\n",
       "      <td>...</td>\n",
       "      <td>...</td>\n",
       "    </tr>\n",
       "    <tr>\n",
       "      <th>3151</th>\n",
       "      <td>I need a sparkling bodysuit . No occasion. Jus...</td>\n",
       "      <td>17</td>\n",
       "    </tr>\n",
       "    <tr>\n",
       "      <th>3152</th>\n",
       "      <td>@everybodyzzmama I've finished reading it; sim...</td>\n",
       "      <td>11,14,25</td>\n",
       "    </tr>\n",
       "    <tr>\n",
       "      <th>3153</th>\n",
       "      <td>shaft abrasions from panties merely shifted to...</td>\n",
       "      <td>2</td>\n",
       "    </tr>\n",
       "    <tr>\n",
       "      <th>3154</th>\n",
       "      <td>All this fake outrage. Y'all need to stop 🤣</td>\n",
       "      <td>2,11</td>\n",
       "    </tr>\n",
       "    <tr>\n",
       "      <th>3155</th>\n",
       "      <td>Would be ever so grateful if you could record ...</td>\n",
       "      <td>17</td>\n",
       "    </tr>\n",
       "  </tbody>\n",
       "</table>\n",
       "<p>3156 rows × 2 columns</p>\n",
       "</div>"
      ],
      "text/plain": [
       "                                                   text     label\n",
       "0     @Adnan__786__ @AsYouNotWish Dont worry Indian ...      2,20\n",
       "1     Academy of Sciences, eschews the normally sobe...        11\n",
       "2                     I blew that opportunity -__- #mad   2,11,25\n",
       "3                This time in 2 weeks I will be 30... 😥     17,25\n",
       "4     #Deppression is real. Partners w/ #depressed p...     14,25\n",
       "...                                                 ...       ...\n",
       "3151  I need a sparkling bodysuit . No occasion. Jus...        17\n",
       "3152  @everybodyzzmama I've finished reading it; sim...  11,14,25\n",
       "3153  shaft abrasions from panties merely shifted to...         2\n",
       "3154        All this fake outrage. Y'all need to stop 🤣      2,11\n",
       "3155  Would be ever so grateful if you could record ...        17\n",
       "\n",
       "[3156 rows x 2 columns]"
      ]
     },
     "execution_count": 6,
     "metadata": {},
     "output_type": "execute_result"
    }
   ],
   "source": [
    "path = '/raid/xiaoyuz1/goemotions/SemEval2018-Task1-all-data/English/E-c/2018-E-c-En-train.txt'\n",
    "parent_dir = os.path.abspath(os.path.join(path, os.pardir))\n",
    "new_path = os.path.join(parent_dir, 'goemotions_train.csv')\n",
    "\n",
    "path = '/raid/xiaoyuz1/goemotions/SemEval2018-Task1-all-data/English/E-c/2018-E-c-En-dev.txt'\n",
    "parent_dir = os.path.abspath(os.path.join(path, os.pardir))\n",
    "new_path = os.path.join(parent_dir, 'goemotions_dev.csv')\n",
    "\n",
    "path = '/raid/xiaoyuz1/goemotions/SemEval2018-Task1-all-data/English/E-c/2018-E-c-En-test-gold.txt'\n",
    "parent_dir = os.path.abspath(os.path.join(path, os.pardir))\n",
    "new_path = os.path.join(parent_dir, 'goemotions_test.csv')\n",
    "\n",
    "process_other_data(path, new_path, emotion_text_to_label)"
   ]
  },
  {
   "cell_type": "code",
   "execution_count": null,
   "metadata": {},
   "outputs": [],
   "source": []
  },
  {
   "cell_type": "code",
   "execution_count": null,
   "metadata": {},
   "outputs": [],
   "source": []
  },
  {
   "cell_type": "code",
   "execution_count": 2,
   "metadata": {},
   "outputs": [],
   "source": [
    "# tsv -> csv\n",
    "df = pd.read_csv(\"/raid/xiaoyuz1/goemotions/goemotions/data/test.tsv\",sep='\\t', header=None)\n",
    "df.to_csv('/raid/xiaoyuz1/goemotions/goemotions/data/test_pred.csv', columns = [0,1], index=False)\n",
    "pd.read_csv(\"/raid/xiaoyuz1/goemotions/goemotions/data/test_pred.csv\")"
   ]
  },
  {
   "cell_type": "code",
   "execution_count": 3,
   "metadata": {},
   "outputs": [],
   "source": [
    "with open('/raid/xiaoyuz1/goemotions/goemotions/data/emotions.txt', 'r') as f:\n",
    "    emotion_list = f.readlines()\n",
    "    emotion_list = [s.strip() for s in emotion_list]\n",
    "\n",
    "emotion_text_to_label = dict(zip(emotion_list, range(len(emotion_list))))\n",
    "label_to_emotion_text = dict(zip(range(len(emotion_list)), emotion_list))"
   ]
  },
  {
   "cell_type": "code",
   "execution_count": 4,
   "metadata": {},
   "outputs": [],
   "source": [
    "def remap_df(text_arr, label_arr, xx_to_idx, go_to_xx, label_to_emotion_text, out_fname):\n",
    "    \n",
    "    xx_label_arr = []\n",
    "    for labs in label_arr:\n",
    "        lab_list = labs.split(',')\n",
    "        xx_idxs = []\n",
    "        for lab in lab_list:\n",
    "            go_emotion_text_label = label_to_emotion_text[int(lab)]\n",
    "            xx_idx = xx_to_idx[go_to_xx[go_emotion_text_label]]\n",
    "            \n",
    "            xx_idxs.append(str(xx_idx))\n",
    "        \n",
    "        xx_idxs = list(set(xx_idxs))\n",
    "        xx_lab = \",\".join(xx_idxs)\n",
    "        \n",
    "        xx_label_arr.append(xx_lab)\n",
    "        \n",
    "    df_xx = pd.DataFrame({'text': list(text_arr), 'label': xx_label_arr})\n",
    "    df_xx.to_csv(out_fname, sep=',', index=False)\n"
   ]
  },
  {
   "cell_type": "markdown",
   "metadata": {},
   "source": [
    "## Remap to Ekman’s taxonomy."
   ]
  },
  {
   "cell_type": "code",
   "execution_count": 4,
   "metadata": {},
   "outputs": [
    {
     "name": "stdout",
     "output_type": "stream",
     "text": [
      "Ekman:  {'anger': 0, 'disgust': 1, 'fear': 2, 'joy': 3, 'sadness': 4, 'surprise': 5, 'neutral': 6}\n"
     ]
    }
   ],
   "source": [
    "import json\n",
    "\n",
    "ekman_to_go = json.load(open('/raid/xiaoyuz1/goemotions/goemotions/data/ekman_mapping.json'))\n",
    "go_to_ekman = {'neutral' : 'neutral'}\n",
    "for k,v in ekman_to_go.items():\n",
    "    for vi in v:\n",
    "        go_to_ekman[vi] = k\n",
    "\n",
    "ekman_texts = list(ekman_to_go.keys())\n",
    "ekman_to_idx = dict(zip(ekman_texts, range(len(ekman_texts))))\n",
    "ekman_to_idx[\"neutral\"] = len(ekman_texts)\n",
    "\n",
    "print(\"Ekman: \", ekman_to_idx)"
   ]
  },
  {
   "cell_type": "code",
   "execution_count": 5,
   "metadata": {},
   "outputs": [],
   "source": [
    "# print(label_to_emotion_text[0])\n",
    "# print(go_to_ekman[label_to_emotion_text[0]])"
   ]
  },
  {
   "cell_type": "code",
   "execution_count": null,
   "metadata": {
    "scrolled": true
   },
   "outputs": [],
   "source": []
  },
  {
   "cell_type": "code",
   "execution_count": 8,
   "metadata": {},
   "outputs": [],
   "source": [
    "roots = ['train', 'dev', 'test']\n",
    "for root in roots:\n",
    "    df = pd.read_csv(\"/raid/xiaoyuz1/goemotions/goemotions/data/{}.csv\".format(root))\n",
    "    ekman_fname = '/raid/xiaoyuz1/goemotions/goemotions/data/{}_ekman.csv'.format(root)\n",
    "    xx_label_arr = remap_df(\n",
    "        df.text.to_numpy(), \n",
    "        df.label.to_numpy(), \n",
    "        ekman_to_idx, \n",
    "        go_to_ekman, \n",
    "        label_to_emotion_text,\n",
    "        ekman_fname,\n",
    "    )"
   ]
  },
  {
   "cell_type": "code",
   "execution_count": 12,
   "metadata": {},
   "outputs": [],
   "source": [
    "label2idx = meta['labels2idxes'][0][0]\n",
    "label2idx = {int(key) : int(value) for key, value in label2idx.items()}\n",
    "idx2label = {value: key for key, value in label2idx.items()}"
   ]
  },
  {
   "cell_type": "markdown",
   "metadata": {},
   "source": [
    "## Remap to sentiment"
   ]
  },
  {
   "cell_type": "code",
   "execution_count": 13,
   "metadata": {
    "scrolled": true
   },
   "outputs": [
    {
     "name": "stdout",
     "output_type": "stream",
     "text": [
      "Sentiment:  {'positive': 0, 'negative': 1, 'ambiguous': 2, 'neutral': 3}\n"
     ]
    }
   ],
   "source": [
    "sentiment_to_go = json.load(open('/raid/xiaoyuz1/goemotions/goemotions/data/sentiment_mapping.json'))\n",
    "go_to_sentiment = {'neutral' : 'neutral'}\n",
    "for k,v in sentiment_to_go.items():\n",
    "    for vi in v:\n",
    "        go_to_sentiment[vi] = k\n",
    "sentiment_texts = list(sentiment_to_go.keys())\n",
    "sentiment_to_idx = dict(zip(sentiment_texts, range(len(sentiment_texts))))\n",
    "sentiment_to_idx[\"neutral\"] = len(sentiment_texts)\n",
    "\n",
    "print(\"Sentiment: \", sentiment_to_idx)"
   ]
  },
  {
   "cell_type": "code",
   "execution_count": 14,
   "metadata": {},
   "outputs": [],
   "source": [
    "roots = ['train', 'dev', 'test']\n",
    "for root in roots:\n",
    "    df = pd.read_csv(\"/raid/xiaoyuz1/goemotions/goemotions/data/{}.csv\".format(root))\n",
    "    sentiment_fname = '/raid/xiaoyuz1/goemotions/goemotions/data/{}_sentiment.csv'.format(root)\n",
    "    \n",
    "    xx_label_arr = remap_df(\n",
    "        df.text.to_numpy(), \n",
    "        df.label.to_numpy(), \n",
    "        sentiment_to_idx, \n",
    "        go_to_sentiment, \n",
    "        label_to_emotion_text,\n",
    "        sentiment_fname,\n",
    "    )"
   ]
  },
  {
   "cell_type": "markdown",
   "metadata": {},
   "source": [
    "## Remap to FSJ\n",
    "\n",
    "> we subsample the existing “all”\n",
    "dataset to select only data points originally labeled\n",
    "with fear, joy, or sadness, for a final set of 4,136\n",
    "data points (3,342 of which are the train set)."
   ]
  },
  {
   "cell_type": "code",
   "execution_count": 10,
   "metadata": {},
   "outputs": [],
   "source": [
    "def filter_df(text_arr, label_arr, emotion_texts_to_include, out_fname):\n",
    "    \n",
    "    filtered_label_arr = []\n",
    "    filtered_text_arr = []\n",
    "    for text_one, labs in zip(text_arr, label_arr):\n",
    "        lab_list = labs.split(',')\n",
    "        xx_idxs = []\n",
    "        for lab in lab_list:\n",
    "            go_emotion_text_label = label_to_emotion_text[int(lab)]\n",
    "            if go_emotion_text_label in emotion_texts_to_include:\n",
    "                xx_idxs.append(lab)\n",
    "        \n",
    "        if len(xx_idxs) < 1:\n",
    "            continue\n",
    "        xx_idxs = list(set(xx_idxs))\n",
    "        xx_lab = \",\".join(xx_idxs)\n",
    "        \n",
    "        filtered_label_arr.append(xx_lab)\n",
    "        filtered_text_arr.append(text_one)\n",
    "        \n",
    "    df_xx = pd.DataFrame({'text': list(filtered_text_arr), 'label': filtered_label_arr})\n",
    "    df_xx.to_csv(out_fname, sep=',', index=False)\n"
   ]
  },
  {
   "cell_type": "code",
   "execution_count": 11,
   "metadata": {},
   "outputs": [
    {
     "name": "stdout",
     "output_type": "stream",
     "text": [
      "fear:  14\n",
      "sadness:  25\n",
      "joy:  17\n"
     ]
    }
   ],
   "source": [
    "FEAR_LABEL_STR = str(emotion_text_to_label['fear'])\n",
    "SADNESS_LABEL_STR = str(emotion_text_to_label['sadness'])\n",
    "JOY_LABEL_STR = str(emotion_text_to_label['joy'])\n",
    "\n",
    "print(\"fear: \", FEAR_LABEL_STR)\n",
    "print(\"sadness: \", SADNESS_LABEL_STR)\n",
    "print(\"joy: \", JOY_LABEL_STR)"
   ]
  },
  {
   "cell_type": "code",
   "execution_count": 12,
   "metadata": {},
   "outputs": [],
   "source": [
    "roots = ['train', 'dev', 'test']\n",
    "for root in roots:\n",
    "    df = pd.read_csv(\"/raid/xiaoyuz1/goemotions/goemotions/data/{}.csv\".format(root))\n",
    "    fsj_fname = '/raid/xiaoyuz1/goemotions/goemotions/data/{}_fsj.csv'.format(root)\n",
    "    \n",
    "    fsj_label_arr = filter_df(\n",
    "        df.text.to_numpy(), \n",
    "        df.label.to_numpy(), \n",
    "        [\"fear\",\"sadness\",\"joy\"],\n",
    "        fsj_fname,\n",
    "    )"
   ]
  },
  {
   "cell_type": "code",
   "execution_count": 6,
   "metadata": {},
   "outputs": [
    {
     "name": "stdout",
     "output_type": "stream",
     "text": [
      "In train, FSJ count:  3342\n"
     ]
    }
   ],
   "source": [
    "acc_train = 0\n",
    "for ele in pd.read_csv(\"/raid/xiaoyuz1/goemotions/goemotions/data/train.csv\")['label'].to_numpy():\n",
    "    if FEAR_LABEL_STR in ele or SADNESS_LABEL_STR in ele or JOY_LABEL_STR in ele:        \n",
    "        acc_train += 1\n",
    "print(\"In train, FSJ count: \", acc_train)"
   ]
  },
  {
   "cell_type": "code",
   "execution_count": 7,
   "metadata": {},
   "outputs": [
    {
     "name": "stdout",
     "output_type": "stream",
     "text": [
      "In dev, FSJ count:  401\n"
     ]
    }
   ],
   "source": [
    "acc_dev = 0\n",
    "for ele in pd.read_csv(\"/raid/xiaoyuz1/goemotions/goemotions/data/dev.csv\")['label'].to_numpy():\n",
    "    if FEAR_LABEL_STR in ele or SADNESS_LABEL_STR in ele or JOY_LABEL_STR in ele:        \n",
    "        acc_dev += 1\n",
    "print(\"In dev, FSJ count: \", acc_dev)"
   ]
  },
  {
   "cell_type": "code",
   "execution_count": 8,
   "metadata": {},
   "outputs": [
    {
     "name": "stdout",
     "output_type": "stream",
     "text": [
      "In test, FSJ count:  393\n"
     ]
    }
   ],
   "source": [
    "acc_test = 0\n",
    "for ele in pd.read_csv(\"/raid/xiaoyuz1/goemotions/goemotions/data/test.csv\")['label'].to_numpy():\n",
    "    if FEAR_LABEL_STR in ele or SADNESS_LABEL_STR in ele or JOY_LABEL_STR in ele:        \n",
    "        acc_test += 1\n",
    "print(\"In test, FSJ count: \", acc_test)"
   ]
  },
  {
   "cell_type": "code",
   "execution_count": 9,
   "metadata": {},
   "outputs": [
    {
     "name": "stdout",
     "output_type": "stream",
     "text": [
      "Total, FSJ count:  4136\n"
     ]
    }
   ],
   "source": [
    "print(\"Total, FSJ count: \", acc_train+acc_dev+acc_test)"
   ]
  },
  {
   "cell_type": "code",
   "execution_count": null,
   "metadata": {},
   "outputs": [],
   "source": []
  },
  {
   "cell_type": "code",
   "execution_count": null,
   "metadata": {},
   "outputs": [],
   "source": []
  },
  {
   "cell_type": "code",
   "execution_count": null,
   "metadata": {},
   "outputs": [],
   "source": []
  },
  {
   "cell_type": "code",
   "execution_count": 9,
   "metadata": {},
   "outputs": [
    {
     "data": {
      "text/plain": [
       "<absl.flags._flagvalues.FlagHolder at 0x7fc4a05a4b80>"
      ]
     },
     "execution_count": 9,
     "metadata": {},
     "output_type": "execute_result"
    }
   ],
   "source": [
    "from absl import flags\n",
    "\n",
    "\n",
    "FLAGS = flags.FLAGS\n",
    "flags.DEFINE_string(\"test_data\", None, \"Test tsv file with true labels.\")\n",
    "flags.DEFINE_string(\"predictions\", None, \"Predictions tsv file.\")\n",
    "flags.DEFINE_string(\"output\", \"results.json\", \"Output json file.\")\n",
    "flags.DEFINE_string(\"emotion_file\", \"data/emotions.txt\",\n",
    "                    \"File containing list of emotions.\")\n",
    "flags.DEFINE_boolean(\"add_neutral\", True, \"Whether to add neutral as emotion.\")\n",
    "flags.DEFINE_float(\"threshold\", 0.3, \"Threshold for binarizing predictions.\")\n",
    "\n"
   ]
  },
  {
   "cell_type": "code",
   "execution_count": 26,
   "metadata": {},
   "outputs": [],
   "source": [
    "\n",
    "# preds = pd.read_csv(FLAGS.predictions, sep=\"\\t\")\n",
    "# true = pd.read_csv(\n",
    "#   FLAGS.test_data, sep=\"\\t\", header=None, names=[\"text\", \"labels\", \"id\"])\n",
    "# emotions = open(FLAGS.emotion_file).read().splitlines()\n",
    "# if FLAGS.add_neutral:\n",
    "# emotions.append(\"neutral\")\n",
    "num_emotions = 28\n",
    "\n",
    "# idx2emotion = {i: e for i, e in enumerate(emotions)}\n",
    "\n",
    "# preds_mat = np.zeros((len(preds), num_emotions))\n",
    "# true_mat = np.zeros((len(preds), num_emotions))\n",
    "# for i in range(len(preds)):\n",
    "# true_labels = [int(idx) for idx in true.loc[i, \"labels\"].split(\",\")]\n",
    "\n",
    "# for j in range(num_emotions):\n",
    "#     preds_mat[i, j] = preds.loc[i, idx2emotion[j]]\n",
    "#     true_mat[i, j] = 1 if j in true_labels else 0\n",
    "\n",
    "true_mat = np.asarray(all_gt)\n",
    "preds_mat = np.asarray(all_pred)\n",
    "\n",
    "# threshold = FLAGS.threshold\n",
    "pred_ind = preds_mat.copy()\n",
    "# pred_ind[pred_ind > threshold] = 1\n",
    "# pred_ind[pred_ind <= threshold] = 0\n",
    "results = {}\n",
    "\n",
    "results[\"accuracy\"] = skmetric.accuracy_score(true_mat, pred_ind)\n",
    "\n",
    "results[\"macro_precision\"], results[\"macro_recall\"], results[\n",
    "  \"macro_f1\"], _ = skmetric.precision_recall_fscore_support(\n",
    "      true_mat, pred_ind, average=\"macro\")\n",
    "\n",
    "results[\"micro_precision\"], results[\"micro_recall\"], results[\n",
    "  \"micro_f1\"], _ = skmetric.precision_recall_fscore_support(\n",
    "      true_mat, pred_ind, average=\"micro\")\n",
    "\n",
    "results[\"weighted_precision\"], results[\"weighted_recall\"], results[\n",
    "  \"weighted_f1\"], _ = skmetric.precision_recall_fscore_support(\n",
    "      true_mat, pred_ind, average=\"weighted\")\n",
    "\n",
    "for i in range(num_emotions):\n",
    "    emotion = emotion_list[int(idx2label[i])]\n",
    "    emotion_true = true_mat[:, i]\n",
    "    emotion_pred = pred_ind[:, i]\n",
    "    results[emotion + \"_accuracy\"] = skmetric.accuracy_score(emotion_true, emotion_pred)\n",
    "    results[emotion + \"_precision\"], results[emotion + \"_recall\"], results[\n",
    "        emotion + \"_f1\"], _ = skmetric.precision_recall_fscore_support(\n",
    "            emotion_true, emotion_pred, average=\"binary\")\n"
   ]
  },
  {
   "cell_type": "code",
   "execution_count": null,
   "metadata": {},
   "outputs": [],
   "source": []
  }
 ],
 "metadata": {
  "kernelspec": {
   "display_name": "711proj",
   "language": "python",
   "name": "711proj"
  },
  "language_info": {
   "codemirror_mode": {
    "name": "ipython",
    "version": 3
   },
   "file_extension": ".py",
   "mimetype": "text/x-python",
   "name": "python",
   "nbconvert_exporter": "python",
   "pygments_lexer": "ipython3",
   "version": "3.8.12"
  }
 },
 "nbformat": 4,
 "nbformat_minor": 4
}
